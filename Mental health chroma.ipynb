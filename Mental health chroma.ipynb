{
 "cells": [
  {
   "cell_type": "code",
   "execution_count": null,
   "metadata": {},
   "outputs": [],
   "source": [
    "from langchain.document_loaders import PyPDFLoader, OnlinePDFLoader\n",
    "from langchain.text_splitter import RecursiveCharacterTextSplitter\n",
    "from langchain.embeddings import HuggingFaceEmbeddings\n",
    "from langchain.vectorstores import Pinecone\n",
    "from sentence_transformers import SentenceTransformer\n",
    "from langchain.prompts import PromptTemplate\n",
    "from langchain.llms import HuggingFaceHub\n",
    "from langchain.chains.llm import LLMChain\n",
    "from langchain.memory import ConversationBufferMemory\n",
    "from langchain.chains.question_answering import load_qa_chain\n",
    "from langchain.chat_models import ChatOpenAI\n",
    "from langchain.schema import SystemMessage\n",
    "from langchain.prompts import ChatPromptTemplate, HumanMessagePromptTemplate, MessagesPlaceholder\n",
    "import pinecone\n",
    "from langchain.embeddings.openai import OpenAIEmbeddings\n",
    "from langchain.embeddings.cohere import CohereEmbeddings\n",
    "from langchain.text_splitter import CharacterTextSplitter\n",
    "from langchain.vectorstores.elastic_vector_search import ElasticVectorSearch\n",
    "from langchain.vectorstores import Chroma\n",
    "from langchain.docstore.document import Document\n",
    "import os\n",
    "from langchain.vectorstores import Chroma\n",
    "from pprint import pprint\n",
    "from dotenv import load_dotenv"
   ]
  },
  {
   "cell_type": "code",
   "execution_count": null,
   "metadata": {},
   "outputs": [],
   "source": [
    "embedding_function = HuggingFaceEmbeddings(model_name='sentence-transformers/all-MiniLM-L6-v2')\n",
    "\n",
    "#db = Chroma.from_documents(docs, embedding_function, persist_directory=\"./chromaDB\")\n",
    "db = Chroma(persist_directory=\"./mentalhealthembedings\", embedding_function=embedding_function)"
   ]
  },
  {
   "cell_type": "code",
   "execution_count": null,
   "metadata": {},
   "outputs": [],
   "source": [
    "query = \"I am feeling depressed because of exams\"\n",
    "docs = db.similarity_search(query)\n",
    "\n",
    "print(len(docs)) \n",
    "docs[0]"
   ]
  },
  {
   "cell_type": "code",
   "execution_count": null,
   "metadata": {},
   "outputs": [],
   "source": [
    "load_dotenv()\n",
    "huggingFaceAPiKey = os.getenv(\"HUGGING_API_KEY\")\n",
    "\n",
    "repoID=\"mistralai/Mistral-7B-Instruct-v0.1\"\n",
    "\n",
    "llmmodel = HuggingFaceHub(repo_id=repoID, model_kwargs={\"max_new_tokens\": 500, \"temperature\": 0.4},huggingfacehub_api_token=huggingFaceAPiKey)\n",
    "\n",
    "\n",
    "template = \"\"\"You are an AI mental health therapist Eva. You are an expert in psychology and you help people suffering from mental health problems by offering them solutions and making them feel better. Always be polite, kind and respectful. You have a collection of case studies of previous patients and their problems. Whenever possible use the case studies to formulate a similiar response. Generate long and helpful responses.\n",
    "\n",
    "\n",
    "Case Studies:\n",
    "================\n",
    "{context}\n",
    "================\n",
    "\n",
    "\n",
    "Question: {human_input}\n",
    "Helpful Response: \"\"\"\n",
    "\n",
    "\n",
    "prompt = PromptTemplate(\n",
    "    input_variables=[\"human_input\", \"context\"], template=template\n",
    ")\n",
    "\n",
    "\n",
    "chain = load_qa_chain(llm=llmmodel, chain_type=\"stuff\", prompt=prompt, verbose=True)"
   ]
  },
  {
   "cell_type": "code",
   "execution_count": null,
   "metadata": {},
   "outputs": [],
   "source": [
    "query = \"I have terrible anxiety and depression. I've tried various therapists and pills, but nothing's helped. What should i do?\"\n",
    "docs = db.similarity_search(query)\n",
    "print(\"Done\")\n",
    "response = chain.run(human_input=query, input_documents=docs, return_only_outputs=True)\n",
    "pprint(response.strip().replace(\"\\xa0\", \"\"))"
   ]
  }
 ],
 "metadata": {
  "kernelspec": {
   "display_name": "base",
   "language": "python",
   "name": "python3"
  },
  "language_info": {
   "codemirror_mode": {
    "name": "ipython",
    "version": 3
   },
   "file_extension": ".py",
   "mimetype": "text/x-python",
   "name": "python",
   "nbconvert_exporter": "python",
   "pygments_lexer": "ipython3",
   "version": "3.10.9"
  },
  "orig_nbformat": 4
 },
 "nbformat": 4,
 "nbformat_minor": 2
}
